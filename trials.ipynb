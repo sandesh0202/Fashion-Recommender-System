{
 "cells": [
  {
   "cell_type": "code",
   "execution_count": 3,
   "metadata": {},
   "outputs": [],
   "source": [
    "import pandas as pd\n",
    "import tensorflow as tf\n",
    "import os\n",
    "from keras.utils import load_img"
   ]
  },
  {
   "cell_type": "code",
   "execution_count": 9,
   "metadata": {},
   "outputs": [
    {
     "name": "stdout",
     "output_type": "stream",
     "text": [
      "[<PIL.Image.Image image mode=RGB size=224x224 at 0x1FCABD12F10>, <PIL.Image.Image image mode=RGB size=224x224 at 0x1FCABED64C0>, <PIL.Image.Image image mode=RGB size=224x224 at 0x1FCB54DE070>, <PIL.Image.Image image mode=RGB size=224x224 at 0x1FCABEADA30>, <PIL.Image.Image image mode=RGB size=224x224 at 0x1FCABEADA00>]\n"
     ]
    }
   ],
   "source": [
    "image = []\n",
    "image_dir = 'image' \n",
    "for filename in os.listdir(image_dir):\n",
    "    file_path = os.path.join(image_dir, filename)  \n",
    "    img = load_img(file_path, target_size=(224, 224))\n",
    "    image.append(img)\n",
    "    \n",
    "print(image)"
   ]
  }
 ],
 "metadata": {
  "kernelspec": {
   "display_name": "base",
   "language": "python",
   "name": "python3"
  },
  "language_info": {
   "codemirror_mode": {
    "name": "ipython",
    "version": 3
   },
   "file_extension": ".py",
   "mimetype": "text/x-python",
   "name": "python",
   "nbconvert_exporter": "python",
   "pygments_lexer": "ipython3",
   "version": "3.8.8"
  }
 },
 "nbformat": 4,
 "nbformat_minor": 2
}
